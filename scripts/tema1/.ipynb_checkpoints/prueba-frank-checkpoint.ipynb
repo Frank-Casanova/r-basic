{
 "cells": [
  {
   "cell_type": "markdown",
   "metadata": {},
   "source": [
    "# Este es un encabezado en python"
   ]
  },
  {
   "cell_type": "code",
   "execution_count": 1,
   "metadata": {},
   "outputs": [],
   "source": [
    "import math"
   ]
  },
  {
   "cell_type": "code",
   "execution_count": 2,
   "metadata": {
    "scrolled": true
   },
   "outputs": [
    {
     "data": {
      "text/plain": [
       "3.141592653589793"
      ]
     },
     "execution_count": 2,
     "metadata": {},
     "output_type": "execute_result"
    }
   ],
   "source": [
    "math.pi"
   ]
  },
  {
   "cell_type": "code",
   "execution_count": 5,
   "metadata": {},
   "outputs": [
    {
     "data": {
      "text/plain": [
       "6.283185307179586"
      ]
     },
     "execution_count": 5,
     "metadata": {},
     "output_type": "execute_result"
    }
   ],
   "source": [
    "math.tau"
   ]
  },
  {
   "cell_type": "code",
   "execution_count": 6,
   "metadata": {},
   "outputs": [
    {
     "data": {
      "text/plain": [
       "6.283185307179586"
      ]
     },
     "execution_count": 6,
     "metadata": {},
     "output_type": "execute_result"
    }
   ],
   "source": [
    "math.pi * 2"
   ]
  },
  {
   "cell_type": "code",
   "execution_count": 7,
   "metadata": {},
   "outputs": [
    {
     "name": "stdout",
     "output_type": "stream",
     "text": [
      "True\n"
     ]
    }
   ],
   "source": [
    "result = math.pi * 2 == math.tau\n",
    "print(result)"
   ]
  },
  {
   "cell_type": "code",
   "execution_count": 15,
   "metadata": {},
   "outputs": [
    {
     "data": {
      "text/plain": [
       "3.141592653589793"
      ]
     },
     "execution_count": 15,
     "metadata": {},
     "output_type": "execute_result"
    }
   ],
   "source": [
    "pii = (math.pi)\n",
    "pii"
   ]
  },
  {
   "cell_type": "code",
   "execution_count": 16,
   "metadata": {},
   "outputs": [
    {
     "data": {
      "text/plain": [
       "inf"
      ]
     },
     "execution_count": 16,
     "metadata": {},
     "output_type": "execute_result"
    }
   ],
   "source": [
    "float(\"inf\")"
   ]
  },
  {
   "cell_type": "code",
   "execution_count": 17,
   "metadata": {},
   "outputs": [
    {
     "data": {
      "text/plain": [
       "-inf"
      ]
     },
     "execution_count": 17,
     "metadata": {},
     "output_type": "execute_result"
    }
   ],
   "source": [
    "-float(\"inf\")"
   ]
  },
  {
   "cell_type": "code",
   "execution_count": 18,
   "metadata": {},
   "outputs": [
    {
     "data": {
      "text/plain": [
       "8.0"
      ]
     },
     "execution_count": 18,
     "metadata": {},
     "output_type": "execute_result"
    }
   ],
   "source": [
    "math.pow(2,3)"
   ]
  },
  {
   "cell_type": "code",
   "execution_count": 19,
   "metadata": {},
   "outputs": [
    {
     "data": {
      "text/plain": [
       "16.0"
      ]
     },
     "execution_count": 19,
     "metadata": {},
     "output_type": "execute_result"
    }
   ],
   "source": [
    "math.pow(2,4)"
   ]
  },
  {
   "cell_type": "code",
   "execution_count": 20,
   "metadata": {},
   "outputs": [
    {
     "data": {
      "text/plain": [
       "64"
      ]
     },
     "execution_count": 20,
     "metadata": {},
     "output_type": "execute_result"
    }
   ],
   "source": [
    "int(math.pow(4,3))"
   ]
  },
  {
   "cell_type": "code",
   "execution_count": 3,
   "metadata": {},
   "outputs": [
    {
     "data": {
      "text/plain": [
       "-1.0"
      ]
     },
     "execution_count": 3,
     "metadata": {},
     "output_type": "execute_result"
    }
   ],
   "source": [
    "math.remainder(7,2)"
   ]
  },
  {
   "cell_type": "code",
   "execution_count": 4,
   "metadata": {},
   "outputs": [
    {
     "data": {
      "text/plain": [
       "1.0"
      ]
     },
     "execution_count": 4,
     "metadata": {},
     "output_type": "execute_result"
    }
   ],
   "source": [
    "math.remainder(7,3)"
   ]
  },
  {
   "cell_type": "code",
   "execution_count": 5,
   "metadata": {},
   "outputs": [
    {
     "data": {
      "text/plain": [
       "0.0"
      ]
     },
     "execution_count": 5,
     "metadata": {},
     "output_type": "execute_result"
    }
   ],
   "source": [
    "math.remainder(7,1)"
   ]
  },
  {
   "cell_type": "code",
   "execution_count": 6,
   "metadata": {},
   "outputs": [
    {
     "data": {
      "text/plain": [
       "1.0"
      ]
     },
     "execution_count": 6,
     "metadata": {},
     "output_type": "execute_result"
    }
   ],
   "source": [
    "math.remainder(10,3)"
   ]
  },
  {
   "cell_type": "code",
   "execution_count": 7,
   "metadata": {},
   "outputs": [
    {
     "data": {
      "text/plain": [
       "2.0"
      ]
     },
     "execution_count": 7,
     "metadata": {},
     "output_type": "execute_result"
    }
   ],
   "source": [
    "math.remainder(10,4)"
   ]
  },
  {
   "cell_type": "code",
   "execution_count": 8,
   "metadata": {},
   "outputs": [
    {
     "data": {
      "text/plain": [
       "0.0"
      ]
     },
     "execution_count": 8,
     "metadata": {},
     "output_type": "execute_result"
    }
   ],
   "source": [
    "math.remainder(10,2)"
   ]
  },
  {
   "cell_type": "code",
   "execution_count": 9,
   "metadata": {},
   "outputs": [
    {
     "data": {
      "text/plain": [
       "0.0"
      ]
     },
     "execution_count": 9,
     "metadata": {},
     "output_type": "execute_result"
    }
   ],
   "source": [
    "math.remainder(10,1\n",
    "              )"
   ]
  },
  {
   "cell_type": "code",
   "execution_count": 10,
   "metadata": {},
   "outputs": [
    {
     "data": {
      "text/plain": [
       "3"
      ]
     },
     "execution_count": 10,
     "metadata": {},
     "output_type": "execute_result"
    }
   ],
   "source": [
    "7//2"
   ]
  },
  {
   "cell_type": "code",
   "execution_count": 11,
   "metadata": {},
   "outputs": [
    {
     "data": {
      "text/plain": [
       "3.5"
      ]
     },
     "execution_count": 11,
     "metadata": {},
     "output_type": "execute_result"
    }
   ],
   "source": [
    "7/2"
   ]
  },
  {
   "cell_type": "code",
   "execution_count": 12,
   "metadata": {},
   "outputs": [
    {
     "data": {
      "text/plain": [
       "1"
      ]
     },
     "execution_count": 12,
     "metadata": {},
     "output_type": "execute_result"
    }
   ],
   "source": [
    "7%2"
   ]
  },
  {
   "cell_type": "code",
   "execution_count": 13,
   "metadata": {},
   "outputs": [
    {
     "data": {
      "text/plain": [
       "-1.0"
      ]
     },
     "execution_count": 13,
     "metadata": {},
     "output_type": "execute_result"
    }
   ],
   "source": [
    "math.remainder(7,2)"
   ]
  },
  {
   "cell_type": "code",
   "execution_count": 14,
   "metadata": {},
   "outputs": [
    {
     "data": {
      "text/plain": [
       "1.0"
      ]
     },
     "execution_count": 14,
     "metadata": {},
     "output_type": "execute_result"
    }
   ],
   "source": [
    "math.remainder(10,3)"
   ]
  },
  {
   "cell_type": "code",
   "execution_count": 15,
   "metadata": {},
   "outputs": [
    {
     "data": {
      "text/plain": [
       "1.0"
      ]
     },
     "execution_count": 15,
     "metadata": {},
     "output_type": "execute_result"
    }
   ],
   "source": [
    "math.fmod(10,3)"
   ]
  },
  {
   "cell_type": "code",
   "execution_count": 16,
   "metadata": {},
   "outputs": [
    {
     "data": {
      "text/plain": [
       "20"
      ]
     },
     "execution_count": 16,
     "metadata": {},
     "output_type": "execute_result"
    }
   ],
   "source": [
    "math.gcd(100,20)"
   ]
  },
  {
   "cell_type": "code",
   "execution_count": 17,
   "metadata": {},
   "outputs": [
    {
     "data": {
      "text/plain": [
       "1"
      ]
     },
     "execution_count": 17,
     "metadata": {},
     "output_type": "execute_result"
    }
   ],
   "source": [
    "math.gcd(12343, 4234)"
   ]
  },
  {
   "cell_type": "code",
   "execution_count": 18,
   "metadata": {},
   "outputs": [
    {
     "data": {
      "text/plain": [
       "50"
      ]
     },
     "execution_count": 18,
     "metadata": {},
     "output_type": "execute_result"
    }
   ],
   "source": [
    "math.gcd(950,1050)"
   ]
  },
  {
   "cell_type": "code",
   "execution_count": 3,
   "metadata": {},
   "outputs": [
    {
     "name": "stdout",
     "output_type": "stream",
     "text": [
      "escribe un número: \n",
      "45\n"
     ]
    }
   ],
   "source": [
    "numero = int(input(\"escribe un número: \\n\"))"
   ]
  },
  {
   "cell_type": "code",
   "execution_count": 7,
   "metadata": {},
   "outputs": [
    {
     "name": "stdout",
     "output_type": "stream",
     "text": [
      "Holi\n"
     ]
    }
   ],
   "source": [
    "print('Holi')"
   ]
  },
  {
   "cell_type": "code",
   "execution_count": 4,
   "metadata": {},
   "outputs": [
    {
     "data": {
      "text/plain": [
       "0"
      ]
     },
     "execution_count": 4,
     "metadata": {},
     "output_type": "execute_result"
    }
   ],
   "source": [
    "numero - 45"
   ]
  },
  {
   "cell_type": "code",
   "execution_count": 10,
   "metadata": {},
   "outputs": [
    {
     "data": {
      "text/plain": [
       "3.141592653589793"
      ]
     },
     "execution_count": 10,
     "metadata": {},
     "output_type": "execute_result"
    }
   ],
   "source": [
    "math.pi"
   ]
  },
  {
   "cell_type": "code",
   "execution_count": 2,
   "metadata": {},
   "outputs": [
    {
     "data": {
      "text/plain": [
       "0.5235987755982988"
      ]
     },
     "execution_count": 2,
     "metadata": {},
     "output_type": "execute_result"
    }
   ],
   "source": [
    "math.radians(30)"
   ]
  },
  {
   "cell_type": "code",
   "execution_count": 3,
   "metadata": {},
   "outputs": [
    {
     "data": {
      "text/plain": [
       "29.99995556149088"
      ]
     },
     "execution_count": 3,
     "metadata": {},
     "output_type": "execute_result"
    }
   ],
   "source": [
    "math.degrees(0.523598)"
   ]
  },
  {
   "cell_type": "code",
   "execution_count": 4,
   "metadata": {},
   "outputs": [
    {
     "data": {
      "text/plain": [
       "1.0"
      ]
     },
     "execution_count": 4,
     "metadata": {},
     "output_type": "execute_result"
    }
   ],
   "source": [
    "math.erf(3)+math.erfc(3)"
   ]
  },
  {
   "cell_type": "code",
   "execution_count": 3,
   "metadata": {},
   "outputs": [
    {
     "data": {
      "text/plain": [
       "3.141592653589793"
      ]
     },
     "execution_count": 3,
     "metadata": {},
     "output_type": "execute_result"
    }
   ],
   "source": [
    "math.pi"
   ]
  },
  {
   "cell_type": "code",
   "execution_count": 7,
   "metadata": {},
   "outputs": [
    {
     "name": "stdout",
     "output_type": "stream",
     "text": [
      "Ingrese un número: -0.000001\n",
      "El número es negativo\n"
     ]
    }
   ],
   "source": [
    "numero = float(input('Ingrese un número: '))\n",
    "if numero > 0:\n",
    "    print('El número es positivo')\n",
    "else:\n",
    "    print('El número es negativo')"
   ]
  },
  {
   "cell_type": "code",
   "execution_count": 15,
   "metadata": {},
   "outputs": [
    {
     "name": "stdout",
     "output_type": "stream",
     "text": [
      "Ingrese un número: -4\n",
      "El número está entre [ -5 , 5 ]\n"
     ]
    }
   ],
   "source": [
    "numero = float(input('Ingrese un número: '))\n",
    "if -5 < numero < 5:\n",
    "    print('El número SI está entre [ -5 , 5 ]')\n",
    "else:\n",
    "    print('El número NO está entre [ -5 , 5 ]')"
   ]
  },
  {
   "cell_type": "code",
   "execution_count": 28,
   "metadata": {},
   "outputs": [
    {
     "name": "stdout",
     "output_type": "stream",
     "text": [
      "Ingrese coordenada X: 4\n",
      "Ingrese coordenada Y: -4\n",
      "La coordenada ( 4.0 ,  -4.0 ) está en el Cuarto Cuadrante (IV)\n"
     ]
    }
   ],
   "source": [
    "coordX = float(input('Ingrese coordenada X: '))\n",
    "coordY = float(input('Ingrese coordenada Y: '))\n",
    "\n",
    "if coordX > 0 and coordY > 0:\n",
    "    print('La coordenada (', str(coordX), ', ', str(coordY),') está en el Primer Cuadrante (I)')\n",
    "elif coordX < 0 and coordY > 0:\n",
    "    print('La coordenada (', str(coordX), ', ', str(coordY),') está en el Segundo Cuadrante (II)')\n",
    "elif coordX < 0 and coordY < 0:\n",
    "    print('La coordenada (', str(coordX), ', ', str(coordY),') está en el Tercer Cuadrante (III)')\n",
    "elif coordX > 0 and coordY < 0:\n",
    "    print('La coordenada (', str(coordX), ', ', str(coordY),') está en el Cuarto Cuadrante (IV)')\n",
    "else:\n",
    "    print('Datos incorrectos')"
   ]
  },
  {
   "cell_type": "code",
   "execution_count": 31,
   "metadata": {},
   "outputs": [
    {
     "name": "stdout",
     "output_type": "stream",
     "text": [
      "División de Números\n",
      "Ingrese el Dividendo1248\n",
      "Ingrese el Divisor17\n",
      "El cociente de la división es:  73\n",
      "El resto de la división es:  7\n"
     ]
    }
   ],
   "source": [
    "print('División de Números')\n",
    "numero1 = int(input('Ingrese el Dividendo'))\n",
    "numero2 = int(input('Ingrese el Divisor'))\n",
    "\n",
    "cociente = numero1 // numero2\n",
    "print('El cociente de la división es: ', str(cociente))\n",
    "\n",
    "resto = numero1 % numero2\n",
    "print('El resto de la división es: ', str(resto))"
   ]
  },
  {
   "cell_type": "code",
   "execution_count": 47,
   "metadata": {},
   "outputs": [
    {
     "name": "stdout",
     "output_type": "stream",
     "text": [
      "Ingrese el número a evaluar: 5\n",
      "El número NO es cuadrado perfecto\n"
     ]
    }
   ],
   "source": [
    "import math\n",
    "numero = int(input('Ingrese el número a evaluar: '))\n",
    "if math.sqrt(numero) == math.trunc(math.sqrt(numero)):\n",
    "    print('El número SI es cuadrado perfecto')\n",
    "else:\n",
    "    print('El número NO es cuadrado perfecto')"
   ]
  },
  {
   "cell_type": "code",
   "execution_count": 67,
   "metadata": {},
   "outputs": [
    {
     "name": "stdout",
     "output_type": "stream",
     "text": [
      "Mal hecho xd\n"
     ]
    }
   ],
   "source": [
    "print('Mal hecho xd')"
   ]
  },
  {
   "cell_type": "code",
   "execution_count": 66,
   "metadata": {},
   "outputs": [
    {
     "name": "stdout",
     "output_type": "stream",
     "text": [
      "Ingrese el año a evaluar: 2020\n",
      "Si es año bisiesto\n"
     ]
    }
   ],
   "source": [
    "anho = int(input('Ingrese el año a evaluar: '))\n",
    "\n",
    "if anho % 4 == 0:\n",
    "    if anho % 100 == 0:\n",
    "        if anho % 400 == 0:\n",
    "            print('Si es año bisiesto')\n",
    "        else:\n",
    "            print('No es año bisiesto')\n",
    "    else:\n",
    "        if anho % 4 == 0:\n",
    "            print('Si es año bisiesto')\n",
    "        else:\n",
    "            print('No es año bisiesto')\n",
    "else:\n",
    "    print('No es anho bisiesto')"
   ]
  },
  {
   "cell_type": "code",
   "execution_count": 80,
   "metadata": {},
   "outputs": [
    {
     "name": "stdout",
     "output_type": "stream",
     "text": [
      "Ingrese la letra de la casilla de ajedrez: g\n",
      "Ingrese el número de la casilla de ajedrez: 7\n",
      "La casilla es Blanca\n"
     ]
    }
   ],
   "source": [
    "letra = input('Ingrese la letra de la casilla de ajedrez: ')\n",
    "numero = int(input('Ingrese el número de la casilla de ajedrez: '))\n",
    "\n",
    "letra = letra.lower()\n",
    "\n",
    "def parNegra(numero):\n",
    "    if 0 < numero <= 8:\n",
    "        if numero % 2 == 0:\n",
    "            print('La casilla es Negra')\n",
    "        else:\n",
    "            print('La casilla es Blanca')\n",
    "    else:\n",
    "        print('El numero no pertenece al tablero de Ajedrez')\n",
    "\n",
    "def imparNegra(numero):\n",
    "    if 0 < numero <= 8:\n",
    "        if numero % 2 == 0:\n",
    "            print('La casilla es Blanca')\n",
    "        else:\n",
    "            print('La casilla es Negra')\n",
    "    else:\n",
    "        print('El numero no pertenece al tablero de Ajedrez')\n",
    "\n",
    "if letra == 'a':\n",
    "    parNegra(numero)\n",
    "elif letra == 'b':\n",
    "    imparNegra(numero)\n",
    "elif letra == 'c':\n",
    "    parNegra(numero)\n",
    "elif letra == 'd':\n",
    "    imparNegra(numero)\n",
    "elif letra == 'e':\n",
    "    parNegra(numero)\n",
    "elif letra == 'f':\n",
    "    imparNegra(numero)\n",
    "elif letra == 'g':\n",
    "    parNegra(numero)\n",
    "elif letra == 'h':\n",
    "    imparNegra(numero)\n",
    "else:\n",
    "    print('La letra no pertenece al tablero de Ajedrez')"
   ]
  },
  {
   "cell_type": "code",
   "execution_count": 81,
   "metadata": {},
   "outputs": [
    {
     "name": "stdout",
     "output_type": "stream",
     "text": [
      "Introduzca el número: 2020\n",
      "Este año es bisiesto\n"
     ]
    }
   ],
   "source": [
    "import math as m\n",
    "\n",
    "while True:\n",
    "    try:\n",
    "        num = int(input(\"Introduzca el número: \"))\n",
    "        if num > 0:\n",
    "            break\n",
    "        else:\n",
    "            continue\n",
    "            \n",
    "    except:\n",
    "        print(\"No ha introducido un valor válido\")\n",
    "        continue\n",
    "\n",
    "if num%4 == 0 and num%100 == 0:\n",
    "    if num%400 == 0:\n",
    "        print(\"Este año es bisiesto\")\n",
    "    else:\n",
    "        print(\"Este año no es bisiesto\")\n",
    "\n",
    "elif num%4 == 0 and num%100 != 0:\n",
    "    print(\"Este año es bisiesto\")\n",
    "\n",
    "else:\n",
    "    print(\"Este año no es bisiesto\")"
   ]
  }
 ],
 "metadata": {
  "kernelspec": {
   "display_name": "Python 3",
   "language": "python",
   "name": "python3"
  },
  "language_info": {
   "codemirror_mode": {
    "name": "ipython",
    "version": 3
   },
   "file_extension": ".py",
   "mimetype": "text/x-python",
   "name": "python",
   "nbconvert_exporter": "python",
   "pygments_lexer": "ipython3",
   "version": "3.7.4"
  }
 },
 "nbformat": 4,
 "nbformat_minor": 2
}
